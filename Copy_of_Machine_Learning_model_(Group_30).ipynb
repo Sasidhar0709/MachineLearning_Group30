{
  "cells": [
    {
      "cell_type": "code",
      "execution_count": 99,
      "metadata": {
        "id": "xYeETMNNVnRn"
      },
      "outputs": [],
      "source": [
        "import tensorflow as tf\n",
        "import numpy as np\n",
        "import pandas as pd \n",
        "import os\n",
        "import matplotlib.pyplot as plt\n",
        "from tensorflow.keras import layers, models, optimizers, losses, callbacks,\\\n",
        "                             regularizers\n",
        "import random   \n",
        "import PIL\n",
        "import os\n",
        "import time\n",
        "import pathlib\n",
        "import keras.backend as K\n",
        "from keras.preprocessing.image import ImageDataGenerator\n",
        "from tensorflow.keras.models import Sequential\n",
        "from tensorflow.keras.layers import Conv2D, MaxPooling2D, Flatten, Dense\n",
        "from keras.layers import Input, Dense, Flatten, Reshape,\\\n",
        "                         MaxPooling2D, UpSampling2D, Conv2D, Lambda,\\\n",
        "                         GaussianNoise, LeakyReLU ,Dropout"
      ]
    },
    {
      "cell_type": "code",
      "execution_count": null,
      "metadata": {
        "colab": {
          "base_uri": "https://localhost:8080/"
        },
        "id": "ZHaTZhyJXPVP",
        "outputId": "82450232-bda5-4f7d-9abf-cc979a6a0ff9"
      },
      "outputs": [
        {
          "output_type": "stream",
          "name": "stdout",
          "text": [
            "Drive already mounted at /content/drive; to attempt to forcibly remount, call drive.mount(\"/content/drive\", force_remount=True).\n"
          ]
        }
      ],
      "source": [
        "from google.colab import drive\n",
        "drive.mount('/content/drive')"
      ]
    },
    {
      "cell_type": "code",
      "execution_count": null,
      "metadata": {
        "colab": {
          "base_uri": "https://localhost:8080/",
          "height": 116
        },
        "id": "fXbCoia8VyD6",
        "outputId": "d43a62e9-1428-45d5-bcf7-d967662e1e9b"
      },
      "outputs": [
        {
          "output_type": "stream",
          "name": "stdout",
          "text": [
            "/content/drive/MyDrive/Group_Project_Data/Train\n",
            "6000\n"
          ]
        },
        {
          "output_type": "execute_result",
          "data": {
            "text/plain": [
              "<PIL.PngImagePlugin.PngImageFile image mode=L size=64x64 at 0x7FA7100DF130>"
            ],
            "image/png": "[encoded data removed]"
          },
          "metadata": {},
          "execution_count": 35
        }
      ],
      "source": [
        "train_data_dir = pathlib.Path('/content/drive/MyDrive/Group_Project_Data/Train')\n",
        "valid_data_dir = pathlib.Path('/content/drive/MyDrive/Group_Project_Data/Valid')\n",
        "print(train_data_dir)\n",
        "image_count = len(list(train_data_dir.glob('*/*.png')))\n",
        "print(image_count)\n",
        "fake = list(train_data_dir.glob('Fake/*'))\n",
        "(PIL.Image.open(str(fake[0])))"
      ]
    },
    {
      "cell_type": "code",
      "execution_count": 112,
      "metadata": {
        "colab": {
          "base_uri": "https://localhost:8080/"
        },
        "id": "-U25LdqNGAh9",
        "outputId": "9ab3bc7b-037f-47fc-ae3c-1d17fd8d1e14"
      },
      "outputs": [
        {
          "output_type": "stream",
          "name": "stdout",
          "text": [
            "Loading data sets\n",
            "Found 6000 images belonging to 2 classes.\n",
            "Found 2000 images belonging to 2 classes.\n"
          ]
        }
      ],
      "source": [
        "print('Loading data sets')\n",
        "    \n",
        "datagen = ImageDataGenerator(rescale=1./255,\n",
        " #                                horizontal_flip=True, vertical_flip=True,\n",
        "                                 dtype='float32')\n",
        "train_generator = datagen.flow_from_directory(train_data_dir, target_size=(64,64),\n",
        "                                                  class_mode='binary',\n",
        "                                              color_mode='grayscale',\n",
        "                                                  batch_size=256,\n",
        "                                                  shuffle=True)\n",
        "valid_generator = datagen.flow_from_directory(valid_data_dir, target_size=(64,64),\n",
        "                                                  class_mode='binary',\n",
        "                                              color_mode='grayscale',\n",
        "                                                  batch_size=256,\n",
        "                                                  shuffle=True)"
      ]
    },
    {
      "cell_type": "code",
      "execution_count": 113,
      "metadata": {
        "colab": {
          "base_uri": "https://localhost:8080/"
        },
        "id": "Vb6AvGF1c_lH",
        "outputId": "eaf25fe8-c515-4763-d94c-ecc4d5640fa7"
      },
      "outputs": [
        {
          "output_type": "execute_result",
          "data": {
            "text/plain": [
              "array([0, 0, 0, ..., 1, 1, 1], dtype=int32)"
            ]
          },
          "metadata": {},
          "execution_count": 113
        }
      ],
      "source": [
        "train_generator.classes"
      ]
    },
    {
      "cell_type": "code",
      "execution_count": null,
      "metadata": {
        "colab": {
          "base_uri": "https://localhost:8080/",
          "height": 218
        },
        "id": "UDWAiW2rRy0C",
        "outputId": "31e64cee-48ae-49c8-9f22-62281d8b6765"
      },
      "outputs": [
        {
          "output_type": "error",
          "ename": "AttributeError",
          "evalue": "ignored",
          "traceback": [
            "\u001b[0;31m---------------------------------------------------------------------------\u001b[0m",
            "\u001b[0;31mAttributeError\u001b[0m                            Traceback (most recent call last)",
            "\u001b[0;32m<ipython-input-38-ccd39a5adc00>\u001b[0m in \u001b[0;36m<cell line: 3>\u001b[0;34m()\u001b[0m\n\u001b[1;32m      1\u001b[0m \u001b[0mAUTOTUNE\u001b[0m \u001b[0;34m=\u001b[0m \u001b[0mtf\u001b[0m\u001b[0;34m.\u001b[0m\u001b[0mdata\u001b[0m\u001b[0;34m.\u001b[0m\u001b[0mAUTOTUNE\u001b[0m\u001b[0;34m\u001b[0m\u001b[0;34m\u001b[0m\u001b[0m\n\u001b[1;32m      2\u001b[0m \u001b[0;34m\u001b[0m\u001b[0m\n\u001b[0;32m----> 3\u001b[0;31m \u001b[0mtrain_generator\u001b[0m \u001b[0;34m=\u001b[0m \u001b[0mtrain_generator\u001b[0m\u001b[0;34m.\u001b[0m\u001b[0mcache\u001b[0m\u001b[0;34m(\u001b[0m\u001b[0;34m)\u001b[0m\u001b[0;34m.\u001b[0m\u001b[0mprefetch\u001b[0m\u001b[0;34m(\u001b[0m\u001b[0mbuffer_size\u001b[0m\u001b[0;34m=\u001b[0m\u001b[0mAUTOTUNE\u001b[0m\u001b[0;34m)\u001b[0m\u001b[0;34m\u001b[0m\u001b[0;34m\u001b[0m\u001b[0m\n\u001b[0m\u001b[1;32m      4\u001b[0m \u001b[0mvalid_generator\u001b[0m \u001b[0;34m=\u001b[0m \u001b[0mvalid_generator\u001b[0m\u001b[0;34m.\u001b[0m\u001b[0mcache\u001b[0m\u001b[0;34m(\u001b[0m\u001b[0;34m)\u001b[0m\u001b[0;34m.\u001b[0m\u001b[0mprefetch\u001b[0m\u001b[0;34m(\u001b[0m\u001b[0mbuffer_size\u001b[0m\u001b[0;34m=\u001b[0m\u001b[0mAUTOTUNE\u001b[0m\u001b[0;34m)\u001b[0m\u001b[0;34m\u001b[0m\u001b[0;34m\u001b[0m\u001b[0m\n",
            "\u001b[0;31mAttributeError\u001b[0m: 'DirectoryIterator' object has no attribute 'cache'"
          ]
        }
      ],
      "source": [
        "AUTOTUNE = tf.data.AUTOTUNE\n",
        "\n",
        "train_generator = train_generator.cache().prefetch(buffer_size=AUTOTUNE)\n",
        "valid_generator = valid_generator.cache().prefetch(buffer_size=AUTOTUNE)"
      ]
    },
    {
      "cell_type": "code",
      "execution_count": null,
      "metadata": {
        "id": "mhrJtcYkPt24"
      },
      "outputs": [],
      "source": [
        "enc_in = layers.Input(shape=(64,64,1), dtype='float32')\n",
        "flat = layers.Flatten()(enc_in)\n",
        "D1 = layers.Dense(256, activation='relu', name='dense_1')(flat)\n",
        "latent = layers.Dense(1, name='latents')(D1)\n",
        "\n",
        "encoder = models.Model(inputs = enc_in, outputs = latent, name='encoder')\n",
        "encoder.summary()"
      ]
    },
    {
      "cell_type": "code",
      "execution_count": null,
      "metadata": {
        "id": "lrBhj8PTP7cv"
      },
      "outputs": [],
      "source": [
        "dec_in = layers.Input(shape=(1,), dtype='float32')\n",
        "D2 = layers.Dense(256, activation='relu', name='dense_2')(dec_in)\n",
        "D3 = layers.Dense(4096, activation='relu', name='dense_3')(D2)\n",
        "img_out = layers.Reshape((64,64,1), name='img_out')(D3)\n",
        "\n",
        "decoder = models.Model(inputs = dec_in, outputs=img_out, name='decoder')\n",
        "decoder.summary()"
      ]
    },
    {
      "cell_type": "code",
      "execution_count": null,
      "metadata": {
        "id": "R1N1OEbeQoLQ"
      },
      "outputs": [],
      "source": [
        "autoencoder = models.Model(inputs = enc_in, outputs = decoder(encoder(enc_in)), name='autoencoder')\n",
        "autoencoder.summary()"
      ]
    },
    {
      "cell_type": "code",
      "execution_count": null,
      "metadata": {
        "id": "VQFnIzduQx5P"
      },
      "outputs": [],
      "source": [
        "autoencoder.compile(optimizer='Adam', loss='mse')"
      ]
    },
    {
      "cell_type": "code",
      "execution_count": null,
      "metadata": {
        "id": "E0X6O8WtRCLR"
      },
      "outputs": [],
      "source": [
        "history = autoencoder.fit(train_generator,validation_data=valid_generator,\n",
        "  epochs=15,batch_size=256)"
      ]
    },
    {
      "cell_type": "code",
      "execution_count": null,
      "metadata": {
        "id": "iFhKYeCwm66x"
      },
      "outputs": [],
      "source": [
        "img_height = 64\n",
        "img_width = 64"
      ]
    },
    {
      "cell_type": "code",
      "execution_count": null,
      "metadata": {
        "colab": {
          "base_uri": "https://localhost:8080/"
        },
        "id": "kbWNCVZQqZMx",
        "outputId": "d41a76b0-eb67-4dd2-f1f5-d80158a73078"
      },
      "outputs": [
        {
          "output_type": "stream",
          "name": "stdout",
          "text": [
            "Found 6000 files belonging to 2 classes.\n"
          ]
        }
      ],
      "source": [
        "train_ds = tf.keras.preprocessing.image_dataset_from_directory(\n",
        "  train_data_dir,\n",
        "  #validation_split=0.2,\n",
        "  #subset=\"training\",\n",
        "  seed=123,\n",
        "  label_mode='binary',\n",
        "  color_mode='grayscale',\n",
        "  image_size=(img_height, img_width),\n",
        "  batch_size=200)\n"
      ]
    },
    {
      "cell_type": "code",
      "execution_count": null,
      "metadata": {
        "id": "dK1BkcPny6vU"
      },
      "outputs": [],
      "source": [
        "train_ds.labels"
      ]
    },
    {
      "cell_type": "code",
      "execution_count": null,
      "metadata": {
        "colab": {
          "base_uri": "https://localhost:8080/"
        },
        "id": "-a5OWor8qam-",
        "outputId": "f96f364f-34da-4c06-853d-275f53fc3f2d"
      },
      "outputs": [
        {
          "output_type": "stream",
          "name": "stdout",
          "text": [
            "Found 2000 files belonging to 2 classes.\n"
          ]
        }
      ],
      "source": [
        "val_ds = tf.keras.preprocessing.image_dataset_from_directory(\n",
        "  valid_data_dir,\n",
        "  #validation_split=0.2,\n",
        "  #subset=\"validation\",\n",
        "  seed=123,\n",
        "  label_mode='binary',\n",
        "  color_mode='grayscale',\n",
        "  image_size=(img_height, img_width),\n",
        "  batch_size=200)"
      ]
    },
    {
      "cell_type": "code",
      "execution_count": null,
      "metadata": {
        "colab": {
          "base_uri": "https://localhost:8080/"
        },
        "id": "qqRF9MHJr_Bb",
        "outputId": "5ecdd9d6-4861-47e5-f7c0-b658871db0c2"
      },
      "outputs": [
        {
          "output_type": "stream",
          "name": "stdout",
          "text": [
            "['Fake', 'Real']\n"
          ]
        }
      ],
      "source": [
        "class_names = train_ds.class_names\n",
        "print(class_names)"
      ]
    },
    {
      "cell_type": "code",
      "execution_count": null,
      "metadata": {
        "id": "FyPKwnI4tCHy"
      },
      "outputs": [],
      "source": [
        "#normalization_layer = tf.keras.layers.Rescaling(1./255)"
      ]
    },
    {
      "cell_type": "code",
      "execution_count": null,
      "metadata": {
        "id": "ox4nLd0atKz6"
      },
      "outputs": [],
      "source": [
        "AUTOTUNE = tf.data.AUTOTUNE\n",
        "\n",
        "train_ds = train_ds.cache().prefetch(buffer_size=AUTOTUNE)\n",
        "val_ds = val_ds.cache().prefetch(buffer_size=AUTOTUNE)"
      ]
    },
    {
      "cell_type": "code",
      "execution_count": 111,
      "metadata": {
        "colab": {
          "base_uri": "https://localhost:8080/"
        },
        "id": "n89JrWCEsUxg",
        "outputId": "c1312e50-a666-4af8-b471-84275ed0cc07"
      },
      "outputs": [
        {
          "output_type": "stream",
          "name": "stdout",
          "text": [
            "Model: \"sequential_8\"\n",
            "_________________________________________________________________\n",
            " Layer (type)                Output Shape              Param #   \n",
            "=================================================================\n",
            " conv2d_48 (Conv2D)          (None, 64, 64, 16)        160       \n",
            "                                                                 \n",
            " conv2d_49 (Conv2D)          (None, 64, 64, 16)        2320      \n",
            "                                                                 \n",
            " max_pooling2d_24 (MaxPoolin  (None, 32, 32, 16)       0         \n",
            " g2D)                                                            \n",
            "                                                                 \n",
            " conv2d_50 (Conv2D)          (None, 32, 32, 32)        4640      \n",
            "                                                                 \n",
            " conv2d_51 (Conv2D)          (None, 32, 32, 32)        9248      \n",
            "                                                                 \n",
            " max_pooling2d_25 (MaxPoolin  (None, 16, 16, 32)       0         \n",
            " g2D)                                                            \n",
            "                                                                 \n",
            " conv2d_52 (Conv2D)          (None, 16, 16, 64)        18496     \n",
            "                                                                 \n",
            " conv2d_53 (Conv2D)          (None, 16, 16, 64)        36928     \n",
            "                                                                 \n",
            " max_pooling2d_26 (MaxPoolin  (None, 8, 8, 64)         0         \n",
            " g2D)                                                            \n",
            "                                                                 \n",
            " dropout_5 (Dropout)         (None, 8, 8, 64)          0         \n",
            "                                                                 \n",
            " flatten_5 (Flatten)         (None, 4096)              0         \n",
            "                                                                 \n",
            " dense_10 (Dense)            (None, 64)                262208    \n",
            "                                                                 \n",
            " dropout_6 (Dropout)         (None, 64)                0         \n",
            "                                                                 \n",
            " dense_11 (Dense)            (None, 1)                 65        \n",
            "                                                                 \n",
            "=================================================================\n",
            "Total params: 334,065\n",
            "Trainable params: 334,065\n",
            "Non-trainable params: 0\n",
            "_________________________________________________________________\n"
          ]
        }
      ],
      "source": [
        "# Initialize the model\n",
        "model = Sequential()\n",
        "\n",
        "# Layer 1: Convolutional layer with 32 filters, 3x3 kernel size, and ReLU activation\n",
        "model.add(Conv2D(16, (3, 3), padding='same', activation='relu', input_shape=(64, 64, 1),dtype='float32'))\n",
        "model.add(Conv2D(16, (3, 3),padding='same', activation='relu',kernel_regularizer=regularizers.l2(0.0001)))\n",
        "# Layer 2: Max pooling layer with 2x2 pool size\n",
        "model.add(MaxPooling2D(pool_size=(2, 2)))\n",
        "\n",
        "# Layer 3: Convolutional layer with 64 filters, 3x3 kernel size, and ReLU activation\n",
        "model.add(Conv2D(32, (3, 3),padding='same', activation='relu',kernel_regularizer=regularizers.l2(0.0001)))\n",
        "model.add(Conv2D(32, (3, 3),padding='same', activation='relu',kernel_regularizer=regularizers.l2(0.0001)))\n",
        "# Layer 4: Max pooling layer with 2x2 pool size\n",
        "model.add(MaxPooling2D(pool_size=(2, 2)))\n",
        "\n",
        "# Layer 5: Convolutional layer with 128 filters, 3x3 kernel size, and ReLU activation\n",
        "model.add(Conv2D(64, (3, 3), padding='same',activation='relu',kernel_regularizer=regularizers.l2(0.0001)))\n",
        "model.add(Conv2D(64, (3, 3),padding='same', activation='relu',kernel_regularizer=regularizers.l2(0.0001)))\n",
        "# Layer 6: Max pooling layer with 2x2 pool size\n",
        "model.add(MaxPooling2D(pool_size=(2, 2)))\n",
        "model.add(Dropout(0.3))\n",
        "# Layer 7: Flatten layer to convert 2D features to 1D feature vector\n",
        "model.add(Flatten())\n",
        "\n",
        "# Layer 8: Fully connected layer with 256 units and ReLU activation\n",
        "model.add(Dense(64, activation='relu',kernel_regularizer=regularizers.l2(0.0001)))\n",
        "\n",
        "model.add(Dropout(0.2))\n",
        "# Layer 10: Output layer with the appropriate number of units for your task\n",
        "model.add(Dense(1, activation='sigmoid',kernel_regularizer=regularizers.l2(0.0001)))\n",
        "\n",
        "# Compile the model\n",
        "model.compile(optimizer='adam',\n",
        "              loss='binary_crossentropy',\n",
        "              #loss=tf.keras.losses.BinaryCrossentropy,\n",
        "              metrics=['accuracy'])\n",
        "\n",
        "# Print the model summary\n",
        "model.summary()\n"
      ]
    },
    {
      "cell_type": "code",
      "execution_count": null,
      "metadata": {
        "colab": {
          "base_uri": "https://localhost:8080/"
        },
        "id": "uFbeMfPWtS0_",
        "outputId": "b6ea558d-9edc-4e26-b3ca-b739ffc10501"
      },
      "outputs": [
        {
          "output_type": "stream",
          "name": "stdout",
          "text": [
            "Model: \"encoder\"\n",
            "_________________________________________________________________\n",
            " Layer (type)                Output Shape              Param #   \n",
            "=================================================================\n",
            " encoder_input (InputLayer)  [(None, 64, 64, 1)]       0         \n",
            "                                                                 \n",
            " gaussian_noise_4 (GaussianN  (None, 64, 64, 1)        0         \n",
            " oise)                                                           \n",
            "                                                                 \n",
            " Conv1 (Conv2D)              (None, 64, 64, 64)        640       \n",
            "                                                                 \n",
            " leaky_re_lu_66 (LeakyReLU)  (None, 64, 64, 64)        0         \n",
            "                                                                 \n",
            " Conv2 (Conv2D)              (None, 64, 64, 64)        36928     \n",
            "                                                                 \n",
            " leaky_re_lu_67 (LeakyReLU)  (None, 64, 64, 64)        0         \n",
            "                                                                 \n",
            " Pool1 (MaxPooling2D)        (None, 32, 32, 64)        0         \n",
            "                                                                 \n",
            " Conv3 (Conv2D)              (None, 32, 32, 32)        51232     \n",
            "                                                                 \n",
            " leaky_re_lu_68 (LeakyReLU)  (None, 32, 32, 32)        0         \n",
            "                                                                 \n",
            " Conv4 (Conv2D)              (None, 32, 32, 32)        25632     \n",
            "                                                                 \n",
            " leaky_re_lu_69 (LeakyReLU)  (None, 32, 32, 32)        0         \n",
            "                                                                 \n",
            " Pool2 (MaxPooling2D)        (None, 16, 16, 32)        0         \n",
            "                                                                 \n",
            " Conv5 (Conv2D)              (None, 16, 16, 16)        12816     \n",
            "                                                                 \n",
            " leaky_re_lu_70 (LeakyReLU)  (None, 16, 16, 16)        0         \n",
            "                                                                 \n",
            " Conv6 (Conv2D)              (None, 16, 16, 16)        6416      \n",
            "                                                                 \n",
            " leaky_re_lu_71 (LeakyReLU)  (None, 16, 16, 16)        0         \n",
            "                                                                 \n",
            " Pool3 (MaxPooling2D)        (None, 8, 8, 16)          0         \n",
            "                                                                 \n",
            " Flat (Flatten)              (None, 1024)              0         \n",
            "                                                                 \n",
            " dense_1 (Dense)             (None, 128)               131200    \n",
            "                                                                 \n",
            " latents (Dense)             (None, 20)                2580      \n",
            "                                                                 \n",
            "=================================================================\n",
            "Total params: 267,444\n",
            "Trainable params: 267,444\n",
            "Non-trainable params: 0\n",
            "_________________________________________________________________\n"
          ]
        }
      ],
      "source": [
        "enc_in = Input(shape=(64,64,1), dtype='float32', name='encoder_input')\n",
        "Noise = GaussianNoise(1e-8)(enc_in)\n",
        "Conv1 = Conv2D(64, kernel_size=(3,3),# activation='relu',\n",
        "              padding='same', name='Conv1',\n",
        "              kernel_regularizer=regularizers.l2(0.01),\n",
        "              bias_regularizer=regularizers.l2(0.01),)(Noise) # (?, 128, 128, ?)\n",
        "Conv1 = LeakyReLU(alpha=0.1)(Conv1)\n",
        "Conv2 = Conv2D(64, kernel_size=(3,3),# activation='relu',\n",
        "              padding='same', name='Conv2',\n",
        "              kernel_regularizer=regularizers.l2(0.01),\n",
        "              bias_regularizer=regularizers.l2(0.01),\n",
        "              )(Conv1) # (?, 128, 128, ?)\n",
        "Conv2 = LeakyReLU(alpha=0.1)(Conv2)\n",
        "Pool1 = MaxPooling2D((2,2), name='Pool1')(Conv2) # (?, 64, 64, ?)\n",
        "    \n",
        "Conv3 = Conv2D(32, kernel_size=(5,5),# activation='relu',\n",
        "                   padding='same', name='Conv3',\n",
        "                   kernel_regularizer=regularizers.l2(0.01),\n",
        "                   bias_regularizer=regularizers.l2(0.01),\n",
        "                   )(Pool1) # (?, 64, 64, ?)\n",
        "Conv3 = LeakyReLU(alpha=0.1)(Conv3)\n",
        "Conv4 = Conv2D(32, kernel_size=(5,5),# activation='relu',\n",
        "                   padding='same', name='Conv4',\n",
        "                   kernel_regularizer=regularizers.l2(0.01),\n",
        "                   bias_regularizer=regularizers.l2(0.01),\n",
        "                   )(Conv3) # (?, 64, 64, 32)\n",
        "Conv4 = LeakyReLU(alpha=0.1)(Conv4)\n",
        "Pool2 = MaxPooling2D((2,2), name='Pool2')(Conv4) # (?, 32, 32, ?)\n",
        "    \n",
        "Conv5 = Conv2D(16, kernel_size=(5,5),# activation='relu',\n",
        "                   padding='same', name='Conv5',\n",
        "                   kernel_regularizer=regularizers.l2(0.01),\n",
        "                   bias_regularizer=regularizers.l2(0.01),\n",
        "                   )(Pool2) # (?, 32, 32, ?)\n",
        "Conv5 = LeakyReLU(alpha=0.1)(Conv5)\n",
        "Conv6 = Conv2D(16, kernel_size=(5,5),# activation='relu',\n",
        "                   padding='same', name='Conv6',\n",
        "                   kernel_regularizer=regularizers.l2(0.01),\n",
        "                   bias_regularizer=regularizers.l2(0.01),\n",
        "                   )(Conv5) # (?, 32, 32, ?)\n",
        "Conv6 = LeakyReLU(alpha=0.1)(Conv6)\n",
        "Pool3 = MaxPooling2D((2,2), name='Pool3')(Conv6) # (?, 16, 16, ?)\n",
        "    \n",
        "enc_out = Flatten(name='Flat')(Pool3) # (?, 16*16*?)\n",
        "D1 = layers.Dense(128, activation='relu', name='dense_1')(enc_out)\n",
        "latent = layers.Dense(20, name='latents')(D1)\n",
        "encoder = models.Model(inputs = enc_in, outputs = latent, name='encoder')\n",
        "encoder.summary()\n"
      ]
    },
    {
      "cell_type": "code",
      "execution_count": null,
      "metadata": {
        "id": "62nzR18LCsAi"
      },
      "outputs": [],
      "source": [
        "def VAE_sampling(args):\n",
        "\n",
        "    z_mean, z_log_var = args\n",
        "    batch = K.shape(z_mean)[0]\n",
        "    dim = K.int_shape(z_mean)[1]\n",
        "    # by default, random_normal has mean = 0 and std = 1.0\n",
        "    epsilon = K.random_normal(shape=(batch, dim))\n",
        "    return z_mean + K.exp(0.5 * z_log_var) * epsilon"
      ]
    },
    {
      "cell_type": "code",
      "execution_count": null,
      "metadata": {
        "colab": {
          "base_uri": "https://localhost:8080/"
        },
        "id": "xXKCcU-P1Qdt",
        "outputId": "6eecacd8-bfed-4a72-b860-ebd63b5aac63"
      },
      "outputs": [
        {
          "output_type": "stream",
          "name": "stdout",
          "text": [
            "Model: \"decoder\"\n",
            "_________________________________________________________________\n",
            " Layer (type)                Output Shape              Param #   \n",
            "=================================================================\n",
            " decoder_input (InputLayer)  [(None, 20)]              0         \n",
            "                                                                 \n",
            " FC3 (Dense)                 (None, 4096)              86016     \n",
            "                                                                 \n",
            " leaky_re_lu_79 (LeakyReLU)  (None, 4096)              0         \n",
            "                                                                 \n",
            " reshape (Reshape)           (None, 16, 16, 16)        0         \n",
            "                                                                 \n",
            " Conv7 (Conv2D)              (None, 16, 16, 16)        6416      \n",
            "                                                                 \n",
            " leaky_re_lu_80 (LeakyReLU)  (None, 16, 16, 16)        0         \n",
            "                                                                 \n",
            " Conv8 (Conv2D)              (None, 16, 16, 16)        6416      \n",
            "                                                                 \n",
            " leaky_re_lu_81 (LeakyReLU)  (None, 16, 16, 16)        0         \n",
            "                                                                 \n",
            " Up1 (UpSampling2D)          (None, 32, 32, 16)        0         \n",
            "                                                                 \n",
            " Conv9 (Conv2D)              (None, 32, 32, 32)        12832     \n",
            "                                                                 \n",
            " leaky_re_lu_82 (LeakyReLU)  (None, 32, 32, 32)        0         \n",
            "                                                                 \n",
            " Conv10 (Conv2D)             (None, 32, 32, 32)        25632     \n",
            "                                                                 \n",
            " leaky_re_lu_83 (LeakyReLU)  (None, 32, 32, 32)        0         \n",
            "                                                                 \n",
            " Up2 (UpSampling2D)          (None, 64, 64, 32)        0         \n",
            "                                                                 \n",
            " Conv11 (Conv2D)             (None, 64, 64, 64)        51264     \n",
            "                                                                 \n",
            " leaky_re_lu_84 (LeakyReLU)  (None, 64, 64, 64)        0         \n",
            "                                                                 \n",
            " Conv12 (Conv2D)             (None, 64, 64, 64)        102464    \n",
            "                                                                 \n",
            " leaky_re_lu_85 (LeakyReLU)  (None, 64, 64, 64)        0         \n",
            "                                                                 \n",
            " Output (Conv2D)             (None, 64, 64, 1)         1601      \n",
            "                                                                 \n",
            "=================================================================\n",
            "Total params: 292,641\n",
            "Trainable params: 292,641\n",
            "Non-trainable params: 0\n",
            "_________________________________________________________________\n"
          ]
        }
      ],
      "source": [
        "#z_mean = Dense(20, name='latentmean',\n",
        "#                   kernel_regularizer=regularizers.l2(0.01),\n",
        "#                   bias_regularizer=regularizers.l2(0.01),\n",
        "#                   )(enc_out) # Edit namespace for CAE\n",
        "#z_log_var = Dense(20, name='latentlog_var',\n",
        "#                   kernel_regularizer=regularizers.l2(0.01),\n",
        " #                  bias_regularizer=regularizers.l2(0.01),\n",
        " #                  )(enc_out) # Comment out for CAE\n",
        "\n",
        "#z = Lambda(VAE_sampling, output_shape=(20,),\n",
        "#               name='latentz_sampling')([z_mean,z_log_var]) # repara trick\n",
        "                 \n",
        "#y_training = K.variable(False, dtype='bool')\n",
        "#z_out = Lambda(cond_z(y_training), output_shape=(20,),\n",
        "#                   name='conditional_z_out')([z_mean, z]) # set input for decoder\n",
        "    \n",
        "#GMM = GMMLayer(20, 12, name='latentGMM_Layer')\n",
        "#z_out = GMM(z_out) # pass through layer containing GMM weights\n",
        "    \n",
        "#gmm_weights = { 'theta' : GMM.weights[0],\n",
        "#                    'mu' : GMM.weights[1],\n",
        "#                    'lambda' : GMM.weights[2],}\n",
        "#gamma_out, z_out = get_gamma(gmm_weights, params)(z_out)\n",
        "    \n",
        "#outputs = { 'z' : z,\n",
        "#                'z_mean' : z_mean,\n",
        "#                'z_log_var' : z_log_var,\n",
        "#                'z_out' : z_out,\n",
        "#                'gamma' : gamma_out,}\n",
        "\n",
        "    \n",
        "dec_in = Input(shape=(20,), dtype='float32', name='decoder_input')\n",
        "\n",
        "FC3 = Dense(4096, name='FC3',\n",
        "                   kernel_regularizer=regularizers.l2(0.01),\n",
        "                   bias_regularizer=regularizers.l2(0.01))(dec_in) # (?, 16*16*?)\n",
        "FC3 = LeakyReLU(alpha=0.1)(FC3)\n",
        "reshape = Reshape((16,16,16), name='reshape')(FC3) # (?, 16, 16, ?)\n",
        "    \n",
        "Conv7 = Conv2D(16, kernel_size=(5,5),# activation='relu',\n",
        "                   padding='same', name='Conv7',\n",
        "                   kernel_regularizer=regularizers.l2(0.01),\n",
        "                   bias_regularizer=regularizers.l2(0.01),\n",
        "                   )(reshape) # (?, 16, 16, ?) \n",
        "Conv7 = LeakyReLU(alpha=0.1)(Conv7)\n",
        "Conv8 = Conv2D(16, kernel_size=(5,5),# activation='relu',\n",
        "                   padding='same', name='Conv8',\n",
        "                   kernel_regularizer=regularizers.l2(0.01),\n",
        "                   bias_regularizer=regularizers.l2(0.01),\n",
        "                   )(Conv7) # (?, 16, 16, ?) \n",
        "Conv8 = LeakyReLU(alpha=0.1)(Conv8)\n",
        "Up1 = UpSampling2D((2,2), interpolation='bilinear',\n",
        "                       name='Up1')(Conv8) # (?, 32, 32, ?)\n",
        "    \n",
        "Conv9 = Conv2D(32, kernel_size=(5,5),# activation='relu',\n",
        "                   padding='same', name='Conv9',\n",
        "                   kernel_regularizer=regularizers.l2(0.01),\n",
        "                   bias_regularizer=regularizers.l2(0.01),\n",
        "                   )(Up1) # (?, 32, 32, ?) \n",
        "Conv9 = LeakyReLU(alpha=0.1)(Conv9)\n",
        "Conv10 = Conv2D(32, kernel_size=(5,5),# activation='relu',\n",
        "                   padding='same', name='Conv10',\n",
        "                   kernel_regularizer=regularizers.l2(0.01),\n",
        "                   bias_regularizer=regularizers.l2(0.01),\n",
        "                   )(Conv9) # (?, 32, 32, ?) \n",
        "Conv10 = LeakyReLU(alpha=0.1)(Conv10)\n",
        "Up2 = UpSampling2D((2,2), interpolation='bilinear',\n",
        "                       name='Up2')(Conv10) # (?, 64, 64, ?)\n",
        "    \n",
        "Conv11 = Conv2D(64, kernel_size=(5,5),# activation='relu',\n",
        "                   padding='same', name='Conv11',\n",
        "                   kernel_regularizer=regularizers.l2(0.01),\n",
        "                   bias_regularizer=regularizers.l2(0.01),\n",
        "                   )(Up2) # (?, 64, 64, ?) \n",
        "Conv11 = LeakyReLU(alpha=0.1)(Conv11)\n",
        "Conv12 = Conv2D(64, kernel_size=(5,5),# activation='relu',\n",
        "                   padding='same', name='Conv12',\n",
        "                   kernel_regularizer=regularizers.l2(0.01),\n",
        "                   bias_regularizer=regularizers.l2(0.01),\n",
        "                   )(Conv11) # (?, 64, 64, ?) \n",
        "Conv12 = LeakyReLU(alpha=0.1)(Conv12)\n",
        "#Up3 = UpSampling2D((2,2), #interpolation='bilinear',\n",
        "#                       name='Up3')(Conv12) # (?, 128, 128, ?)\n",
        "    \n",
        "Out = Conv2D(1, kernel_size=(5,5), activation='relu',\n",
        "                 padding='same', name='Output',\n",
        "                 kernel_regularizer=regularizers.l2(0.01),\n",
        "                 bias_regularizer=regularizers.l2(0.01),\n",
        "                 )(Conv12) # (?, 128, 128, b)\n",
        "decoder = models.Model(inputs = dec_in, outputs=Out, name='decoder')    \n",
        "decoder.summary()"
      ]
    },
    {
      "cell_type": "code",
      "execution_count": 102,
      "metadata": {
        "colab": {
          "base_uri": "https://localhost:8080/"
        },
        "id": "3CWkneHFttQg",
        "outputId": "daa1142d-4488-4bfc-92bb-d99332b6cfed"
      },
      "outputs": [
        {
          "output_type": "stream",
          "name": "stdout",
          "text": [
            "Model: \"autoencoder\"\n",
            "_________________________________________________________________\n",
            " Layer (type)                Output Shape              Param #   \n",
            "=================================================================\n",
            " encoder_input (InputLayer)  [(None, 64, 64, 1)]       0         \n",
            "                                                                 \n",
            " encoder (Functional)        (None, 20)                267444    \n",
            "                                                                 \n",
            " decoder (Functional)        (None, 64, 64, 1)         292641    \n",
            "                                                                 \n",
            "=================================================================\n",
            "Total params: 560,085\n",
            "Trainable params: 560,085\n",
            "Non-trainable params: 0\n",
            "_________________________________________________________________\n"
          ]
        }
      ],
      "source": [
        "autoencoder = models.Model(inputs = enc_in, outputs = decoder(encoder(enc_in)), name='autoencoder')\n",
        "autoencoder.summary()\n",
        "#autoencoder = models.Model(inputs = enc_in, outputs = Out, name='autoencoder')\n",
        "#autoencoder.summary()\n",
        "autoencoder.compile(optimizer='Adam', loss='binary_crossentropy')"
      ]
    },
    {
      "cell_type": "code",
      "execution_count": null,
      "metadata": {
        "colab": {
          "base_uri": "https://localhost:8080/"
        },
        "id": "VGXdV9EttuaZ",
        "outputId": "8a069167-ae56-4432-a6f9-914be92c6f7d"
      },
      "outputs": [
        {
          "output_type": "stream",
          "name": "stdout",
          "text": [
            "Epoch 1/15\n",
            "24/24 [==============================] - 19s 628ms/step - loss: 0.4589 - accuracy: 0.7692 - val_loss: 0.0503 - val_accuracy: 0.9915\n",
            "Epoch 2/15\n",
            "24/24 [==============================] - 14s 610ms/step - loss: 0.0910 - accuracy: 0.9815 - val_loss: 0.2978 - val_accuracy: 0.8865\n",
            "Epoch 3/15\n",
            "24/24 [==============================] - 14s 588ms/step - loss: 0.1113 - accuracy: 0.9677 - val_loss: 0.0473 - val_accuracy: 0.9935\n",
            "Epoch 4/15\n",
            "24/24 [==============================] - 14s 575ms/step - loss: 0.0318 - accuracy: 0.9970 - val_loss: 0.0328 - val_accuracy: 0.9955\n",
            "Epoch 5/15\n",
            "24/24 [==============================] - 14s 567ms/step - loss: 0.0238 - accuracy: 0.9992 - val_loss: 0.0317 - val_accuracy: 0.9960\n",
            "Epoch 6/15\n",
            "24/24 [==============================] - 14s 576ms/step - loss: 0.0218 - accuracy: 0.9997 - val_loss: 0.0314 - val_accuracy: 0.9970\n",
            "Epoch 7/15\n",
            "24/24 [==============================] - 14s 566ms/step - loss: 0.0220 - accuracy: 0.9997 - val_loss: 0.0312 - val_accuracy: 0.9970\n",
            "Epoch 8/15\n",
            "24/24 [==============================] - 13s 563ms/step - loss: 0.0216 - accuracy: 0.9997 - val_loss: 0.0322 - val_accuracy: 0.9970\n",
            "Epoch 9/15\n",
            "24/24 [==============================] - 13s 561ms/step - loss: 0.0211 - accuracy: 0.9995 - val_loss: 0.0300 - val_accuracy: 0.9970\n",
            "Epoch 10/15\n",
            "24/24 [==============================] - 13s 558ms/step - loss: 0.0199 - accuracy: 0.9998 - val_loss: 0.0310 - val_accuracy: 0.9970\n",
            "Epoch 11/15\n",
            "24/24 [==============================] - 13s 557ms/step - loss: 0.0193 - accuracy: 0.9998 - val_loss: 0.0290 - val_accuracy: 0.9985\n",
            "Epoch 12/15\n",
            "24/24 [==============================] - 13s 563ms/step - loss: 0.0192 - accuracy: 0.9998 - val_loss: 0.0306 - val_accuracy: 0.9965\n",
            "Epoch 13/15\n",
            "13/24 [===============>..............] - ETA: 4s - loss: 0.0188 - accuracy: 0.9997"
          ]
        }
      ],
      "source": [
        "history = model.fit(train_generator,validation_data=valid_generator,\n",
        "  epochs=15,batch_size=256)"
      ]
    },
    {
      "cell_type": "code",
      "execution_count": 106,
      "metadata": {
        "id": "8XWnsfl4yhOV",
        "colab": {
          "base_uri": "https://localhost:8080/",
          "height": 1000
        },
        "outputId": "e002bef8-165c-4554-cdb0-bc196b10ea4a"
      },
      "outputs": [
        {
          "output_type": "stream",
          "name": "stdout",
          "text": [
            "7/7 [==============================] - 0s 3ms/step\n",
            "[0 0 0 0 0 0 0 0 0 0 0 0 0 0 0 0 0 0 0 0 0 0 0 0 0 0 0 0 0 0 0 0 0 0 0 0 0\n",
            " 0 0 0 0 0 0 0 0 0 0 0 0 0 0 0 0 0 0 0 0 0 0 0 0 0 0 0 0 0 0 0 0 0 0 0 0 0\n",
            " 0 0 0 0 0 0 0 0 0 0 0 0 0 0 0 0 0 0 0 0 0 0 0 0 0 0 0 0 0 0 0 0 0 0 0 0 0\n",
            " 0 0 0 0 0 0 0 0 0 0 0 0 0 0 0 0 0 0 0 0 0 0 0 0 0 0 0 0 0 0 0 0 0 0 0 0 0\n",
            " 0 0 0 0 0 0 0 0 0 0 0 0 0 0 0 0 0 0 0 0 0 0 0 0 0 0 0 0 0 0 0 0 0 0 0 0 0\n",
            " 0 0 0 0 0 0 0 0 0 0 0 0 0 0 0]\n"
          ]
        },
        {
          "output_type": "error",
          "ename": "TypeError",
          "evalue": "ignored",
          "traceback": [
            "\u001b[0;31m---------------------------------------------------------------------------\u001b[0m",
            "\u001b[0;31mTypeError\u001b[0m                                 Traceback (most recent call last)",
            "\u001b[0;32m<ipython-input-106-c25c41fbf883>\u001b[0m in \u001b[0;36m<cell line: 4>\u001b[0;34m()\u001b[0m\n\u001b[1;32m     10\u001b[0m     \u001b[0;32mfor\u001b[0m \u001b[0mi\u001b[0m \u001b[0;32min\u001b[0m \u001b[0mrange\u001b[0m\u001b[0;34m(\u001b[0m\u001b[0;36m25\u001b[0m\u001b[0;34m)\u001b[0m\u001b[0;34m:\u001b[0m\u001b[0;34m\u001b[0m\u001b[0;34m\u001b[0m\u001b[0m\n\u001b[1;32m     11\u001b[0m         \u001b[0max\u001b[0m\u001b[0;34m[\u001b[0m\u001b[0mi\u001b[0m\u001b[0;34m]\u001b[0m\u001b[0;34m.\u001b[0m\u001b[0mimshow\u001b[0m\u001b[0;34m(\u001b[0m\u001b[0mimages\u001b[0m\u001b[0;34m[\u001b[0m\u001b[0mi\u001b[0m\u001b[0;34m]\u001b[0m\u001b[0;34m.\u001b[0m\u001b[0mnumpy\u001b[0m\u001b[0;34m(\u001b[0m\u001b[0;34m)\u001b[0m\u001b[0;34m.\u001b[0m\u001b[0mastype\u001b[0m\u001b[0;34m(\u001b[0m\u001b[0;34m\"float32\"\u001b[0m\u001b[0;34m)\u001b[0m\u001b[0;34m)\u001b[0m\u001b[0;34m\u001b[0m\u001b[0;34m\u001b[0m\u001b[0m\n\u001b[0;32m---> 12\u001b[0;31m         \u001b[0max\u001b[0m\u001b[0;34m[\u001b[0m\u001b[0mi\u001b[0m\u001b[0;34m]\u001b[0m\u001b[0;34m.\u001b[0m\u001b[0mset_title\u001b[0m\u001b[0;34m(\u001b[0m\u001b[0;34mf\"truth {class_names[labels[i]]}  pred {class_names[y_pred_label[i]]}\"\u001b[0m\u001b[0;34m)\u001b[0m\u001b[0;34m\u001b[0m\u001b[0;34m\u001b[0m\u001b[0m\n\u001b[0m\u001b[1;32m     13\u001b[0m         \u001b[0max\u001b[0m\u001b[0;34m[\u001b[0m\u001b[0mi\u001b[0m\u001b[0;34m]\u001b[0m\u001b[0;34m.\u001b[0m\u001b[0mset_xticks\u001b[0m\u001b[0;34m(\u001b[0m\u001b[0;34m[\u001b[0m\u001b[0;34m]\u001b[0m\u001b[0;34m)\u001b[0m\u001b[0;34m\u001b[0m\u001b[0;34m\u001b[0m\u001b[0m\n\u001b[1;32m     14\u001b[0m         \u001b[0max\u001b[0m\u001b[0;34m[\u001b[0m\u001b[0mi\u001b[0m\u001b[0;34m]\u001b[0m\u001b[0;34m.\u001b[0m\u001b[0mset_yticks\u001b[0m\u001b[0;34m(\u001b[0m\u001b[0;34m[\u001b[0m\u001b[0;34m]\u001b[0m\u001b[0;34m)\u001b[0m\u001b[0;34m\u001b[0m\u001b[0;34m\u001b[0m\u001b[0m\n",
            "\u001b[0;32m/usr/local/lib/python3.10/dist-packages/tensorflow/python/framework/ops.py\u001b[0m in \u001b[0;36m__index__\u001b[0;34m(self)\u001b[0m\n\u001b[1;32m   1066\u001b[0m \u001b[0;34m\u001b[0m\u001b[0m\n\u001b[1;32m   1067\u001b[0m   \u001b[0;32mdef\u001b[0m \u001b[0m__index__\u001b[0m\u001b[0;34m(\u001b[0m\u001b[0mself\u001b[0m\u001b[0;34m)\u001b[0m\u001b[0;34m:\u001b[0m\u001b[0;34m\u001b[0m\u001b[0;34m\u001b[0m\u001b[0m\n\u001b[0;32m-> 1068\u001b[0;31m     \u001b[0;32mreturn\u001b[0m \u001b[0mself\u001b[0m\u001b[0;34m.\u001b[0m\u001b[0m_numpy\u001b[0m\u001b[0;34m(\u001b[0m\u001b[0;34m)\u001b[0m\u001b[0;34m.\u001b[0m\u001b[0m__index__\u001b[0m\u001b[0;34m(\u001b[0m\u001b[0;34m)\u001b[0m\u001b[0;34m\u001b[0m\u001b[0;34m\u001b[0m\u001b[0m\n\u001b[0m\u001b[1;32m   1069\u001b[0m \u001b[0;34m\u001b[0m\u001b[0m\n\u001b[1;32m   1070\u001b[0m   \u001b[0;32mdef\u001b[0m \u001b[0m__bool__\u001b[0m\u001b[0;34m(\u001b[0m\u001b[0mself\u001b[0m\u001b[0;34m)\u001b[0m\u001b[0;34m:\u001b[0m\u001b[0;34m\u001b[0m\u001b[0;34m\u001b[0m\u001b[0m\n",
            "\u001b[0;31mTypeError\u001b[0m: only integer scalar arrays can be converted to a scalar index"
          ]
        },
        {
          "output_type": "display_data",
          "data": {
            "text/plain": [
              "<Figure size 1200x1000 with 25 Axes>"
            ],
            "image/png": "[encoded data removed]"
          },
          "metadata": {}
        }
      ],
      "source": [
        "f, ax = plt.subplots(5, 5, figsize=(12, 10))\n",
        "ax = ax.flatten()\n",
        "\n",
        "for images, labels in val_ds.take(1):\n",
        "    # Get model predictions\n",
        "    y_pred = model.predict(images)\n",
        "    y_pred_label = np.argmax(y_pred, axis=1)\n",
        "    print(y_pred_label)\n",
        "  \n",
        "    for i in range(25):\n",
        "        ax[i].imshow(images[i].numpy().astype(\"float32\"))\n",
        "        ax[i].set_title(f\"truth {class_names[labels[i]]}  pred {class_names[y_pred_label[i]]}\")\n",
        "        ax[i].set_xticks([])\n",
        "        ax[i].set_yticks([])\n",
        "        \n",
        "f.tight_layout()\n",
        "plt.show()"
      ]
    },
    {
      "cell_type": "code",
      "execution_count": null,
      "metadata": {
        "id": "Zj1aa12PpNly"
      },
      "outputs": [],
      "source": [
        "y_pred = autoencoder.predict(val_ds)\n",
        "y_pred_label = np.argmax(y_pred, axis=-1)\n",
        "print(len(y_pred_label))\n",
        "y_pred_label"
      ]
    },
    {
      "cell_type": "code",
      "execution_count": null,
      "metadata": {
        "id": "qL_kSz-zyjSe"
      },
      "outputs": [],
      "source": [
        "autoencoder.evaluate(val_ds)\n",
        "test_loss, test_acc = autoencoder.evaluate(val_ds)\n",
        "print(test_acc)\n",
        "print(test_loss)"
      ]
    },
    {
      "cell_type": "code",
      "execution_count": null,
      "metadata": {
        "id": "fcmQvR8TZ2yJ"
      },
      "outputs": [],
      "source": [
        "f , ax = plt.subplots(1,2, figsize=(15,5))\n",
        "\n",
        "ax[0].plot(history.history['loss'], label='Train_data')\n",
        "ax[0].plot(history.history['val_loss'], label='Validation_data')\n",
        "ax[0].legend(loc=0)\n",
        "ax[0].set_title(\"model loss\")\n",
        "\n",
        "ax[1].plot(history.history['accuracy'], label='Train_data')\n",
        "ax[1].plot(history.history['val_accuracy'], label='Validation_data')\n",
        "ax[1].legend(loc=0)\n",
        "ax[1].set_title('Model Accuracy')\n",
        "\n",
        "plt.show()\n",
        "\n",
        "y_pred = model.predict(val_ds)\n",
        "y_pred_label = np.argmax(y_pred, axis=-1)\n",
        "len(y_pred)\n",
        "\n",
        "\n",
        "\n"
      ]
    }
  ],
  "metadata": {
    "accelerator": "GPU",
    "colab": {
      "provenance": []
    },
    "gpuClass": "standard",
    "kernelspec": {
      "display_name": "Python 3",
      "name": "python3"
    },
    "language_info": {
      "name": "python"
    }
  },
  "nbformat": 4,
  "nbformat_minor": 0
}
